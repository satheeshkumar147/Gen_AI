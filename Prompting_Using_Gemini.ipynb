{
  "nbformat": 4,
  "nbformat_minor": 0,
  "metadata": {
    "colab": {
      "provenance": [],
      "include_colab_link": true
    },
    "kernelspec": {
      "name": "python3",
      "display_name": "Python 3"
    },
    "language_info": {
      "name": "python"
    }
  },
  "cells": [
    {
      "cell_type": "markdown",
      "metadata": {
        "id": "view-in-github",
        "colab_type": "text"
      },
      "source": [
        "<a href=\"https://colab.research.google.com/github/satheeshkumar147/Gen_AI/blob/main/Prompting_Using_Gemini.ipynb\" target=\"_parent\"><img src=\"https://colab.research.google.com/assets/colab-badge.svg\" alt=\"Open In Colab\"/></a>"
      ]
    },
    {
      "cell_type": "code",
      "source": [
        "# Install Gemini\n",
        "#!pip install google-generativeai"
      ],
      "metadata": {
        "id": "Oaz6Y1-G-hm1"
      },
      "execution_count": null,
      "outputs": []
    },
    {
      "cell_type": "code",
      "execution_count": null,
      "metadata": {
        "id": "dZumOSP49YIi"
      },
      "outputs": [],
      "source": [
        "# GOOGLE-API-KEY\n",
        "# Import the Libraries\n",
        "import google.generativeai as genai\n",
        "\n",
        "from google.colab import userdata\n",
        "google_api = userdata.get('GOOGLE-API-KEY')\n",
        "\n",
        "genai.configure(api_key = google_api) # Link the API key with gen AI Model"
      ]
    },
    {
      "cell_type": "code",
      "source": [
        "# Model\n",
        "model = genai.GenerativeModel(\"gemini-pro\")"
      ],
      "metadata": {
        "id": "-W0xSrjb_5JG"
      },
      "execution_count": null,
      "outputs": []
    },
    {
      "cell_type": "code",
      "source": [
        "# Lets start with Movie Review\n",
        "\n",
        "review = '''Find out if the Review of the Movie is Positive or Negative:\n",
        "I went to the Movie. The plot was nice and entertaining. I liked the Movie.\n",
        "'''\n",
        "response = model.generate_content(review)\n",
        "print(response.text)"
      ],
      "metadata": {
        "colab": {
          "base_uri": "https://localhost:8080/",
          "height": 35
        },
        "id": "S_6XAiusAoKe",
        "outputId": "cf91ecbc-71e3-4000-be84-67f9139656db"
      },
      "execution_count": null,
      "outputs": [
        {
          "output_type": "stream",
          "name": "stdout",
          "text": [
            "Positive\n"
          ]
        }
      ]
    },
    {
      "cell_type": "code",
      "source": [
        "review = '''Find out if the Review of the Movie is Positive or Negative:\n",
        "I went to the Movie. The plot was boring. I did not like the Movie.'''\n",
        "\n",
        "response = model.generate_content(review)\n",
        "print(response.text)"
      ],
      "metadata": {
        "colab": {
          "base_uri": "https://localhost:8080/",
          "height": 35
        },
        "id": "B9InqNY3CY-Y",
        "outputId": "710056d1-76fe-4d24-c737-14c99e79c3c6"
      },
      "execution_count": null,
      "outputs": [
        {
          "output_type": "stream",
          "name": "stdout",
          "text": [
            "Negative\n"
          ]
        }
      ]
    },
    {
      "cell_type": "code",
      "source": [
        "review = '''Classify the news in following categories:\n",
        "Politics, Disaster, War, Entertainment.\n",
        "\"Mahindra group is evaluating new opportunities in emerging EV sectors.\"'''\n",
        "\n",
        "response = model.generate_content(review)\n",
        "print(response.text)"
      ],
      "metadata": {
        "colab": {
          "base_uri": "https://localhost:8080/",
          "height": 35
        },
        "id": "TVyk48bTDVqI",
        "outputId": "c5a5cfce-096a-4d07-9617-d030157e8fab"
      },
      "execution_count": null,
      "outputs": [
        {
          "output_type": "stream",
          "name": "stdout",
          "text": [
            "Politics\n"
          ]
        }
      ]
    },
    {
      "cell_type": "code",
      "source": [
        "review = '''Classify the news in following categories:\n",
        "Politics, Disaster, War, Entertainment. If the news does not belong to any\n",
        "of the categories mentioned, then use your own intelligence &\n",
        "classify it in the best possible way.\n",
        "\"Mahindra group is evaluating new opportunities in emerging EV sectors.\"'''\n",
        "\n",
        "response = model.generate_content(review)\n",
        "print(response.text)"
      ],
      "metadata": {
        "colab": {
          "base_uri": "https://localhost:8080/",
          "height": 35
        },
        "id": "ZFomcuWFFDjf",
        "outputId": "78e35b41-6818-45ef-bcbd-9c8e017b9d5a"
      },
      "execution_count": null,
      "outputs": [
        {
          "output_type": "stream",
          "name": "stdout",
          "text": [
            "Business\n"
          ]
        }
      ]
    },
    {
      "cell_type": "code",
      "source": [
        "# Diet Plan for myself\n",
        "comment = '''Act as a Dietician and Health Coach. Generate a Diet and Workout\n",
        "Plan for a person who is Diabetic with weight around 75 kg. The objective\n",
        "is to reduce the weight by 5 kg.'''\n",
        "\n",
        "response = model.generate_content(comment)\n",
        "print(response.text)"
      ],
      "metadata": {
        "colab": {
          "base_uri": "https://localhost:8080/",
          "height": 1000
        },
        "id": "J6FyIuZkFgrM",
        "outputId": "bb5d39d0-2482-46c3-d96d-db8c2f943ad2"
      },
      "execution_count": null,
      "outputs": [
        {
          "output_type": "stream",
          "name": "stdout",
          "text": [
            "**Diet Plan for a Diabetic with Weight of 75 kg**\n",
            "\n",
            "**Goals:**\n",
            "* Reduce weight by 5 kg (11 pounds)\n",
            "* Manage blood sugar levels\n",
            "\n",
            "**Calorie Intake:**\n",
            "* 1,600-1,800 calories per day\n",
            "\n",
            "**Macronutrient Distribution:**\n",
            "* Carbohydrates: 45-55% (180-242 grams)\n",
            "* Protein: 20-25% (80-100 grams)\n",
            "* Fat: 25-30% (40-50 grams)\n",
            "\n",
            "**Food Choices:**\n",
            "\n",
            "**Carbohydrates:**\n",
            "* Whole grains: brown rice, quinoa, oatmeal\n",
            "* Fruits: berries, apples, bananas\n",
            "* Vegetables: broccoli, spinach, carrots\n",
            "\n",
            "**Protein:**\n",
            "* Lean meats: chicken, fish, tofu\n",
            "* Legumes: lentils, beans\n",
            "* Nuts and seeds\n",
            "\n",
            "**Fat:**\n",
            "* Healthy fats: olive oil, avocados, nuts\n",
            "* Limit saturated and trans fats\n",
            "\n",
            "**Other Recommendations:**\n",
            "\n",
            "* Limit sugar intake: Choose whole fruits and avoid processed foods.\n",
            "* Drink plenty of water: Aim for 8-10 glasses per day.\n",
            "* Read food labels carefully: Pay attention to serving sizes and sugar content.\n",
            "* Consult with a registered dietitian or certified diabetes care and education specialist for personalized guidance.\n",
            "\n",
            "**Workout Plan for a Person with Diabetes**\n",
            "\n",
            "**Goals:**\n",
            "* Improve overall fitness\n",
            "* Increase muscle mass\n",
            "* Aid in weight loss\n",
            "\n",
            "**Frequency:**\n",
            "* Aim for 150 minutes of moderate-intensity aerobic activity or 75 minutes of vigorous-intensity aerobic activity per week.\n",
            "* Include strength training exercises 2-3 times per week.\n",
            "\n",
            "**Intensity:**\n",
            "* Moderate-intensity: Heart rate feels elevated, but you can still talk without getting out of breath.\n",
            "* Vigorous-intensity: Heart rate increases significantly, and it becomes more difficult to talk.\n",
            "\n",
            "**Exercise Types:**\n",
            "\n",
            "**Aerobic Activity:**\n",
            "* Brisk walking\n",
            "* Jogging\n",
            "* Cycling\n",
            "* Swimming\n",
            "\n",
            "**Strength Training:**\n",
            "* Bodyweight exercises (e.g., push-ups, squats, lunges)\n",
            "* Resistance bands\n",
            "* Dumbbells\n",
            "\n",
            "**Warm-up:**\n",
            "* 5-10 minutes of light activity (e.g., walking, stretching)\n",
            "\n",
            "**Cool-down:**\n",
            "* 5-10 minutes of stretching\n",
            "\n",
            "**Other Recommendations:**\n",
            "\n",
            "* Start gradually and increase intensity and duration over time.\n",
            "* Listen to your body and rest when needed.\n",
            "* Check blood sugar levels before and after exercise to prevent hypoglycemia.\n",
            "* Consult with a doctor or exercise professional before starting an exercise program.\n",
            "\n",
            "**Note:** This plan is a general guideline and should be adjusted based on individual needs, preferences, and medical advice. It's crucial to consult with healthcare professionals to create a personalized plan that meets your specific requirements.\n"
          ]
        }
      ]
    },
    {
      "cell_type": "code",
      "source": [
        "learning = '''Act as a CyberSecurity Expert and give me a learning roadmap\n",
        "for CyberSecurity from scratch/basics. Please note that I do not come from\n",
        "Computer Science Background. Give me the List of all the topics marking\n",
        "Beginner Level, Intermediate Level and Expert Level followed by List of\n",
        "Google Links for Tons of Practice to become expert. In the End, give me the\n",
        "approx time to become an expert in this field.'''\n",
        "\n",
        "response = model.generate_content(learning)\n",
        "print(response.text)"
      ],
      "metadata": {
        "colab": {
          "base_uri": "https://localhost:8080/",
          "height": 787
        },
        "id": "75AhgN3_HWn_",
        "outputId": "f9197f92-b715-4b06-f45a-1c9463176a05"
      },
      "execution_count": null,
      "outputs": [
        {
          "output_type": "stream",
          "name": "stdout",
          "text": [
            "## Learning Roadmap for Cybersecurity from Scratch\n",
            "\n",
            "### Beginner Level\n",
            "\n",
            "- **Networking Fundamentals:** TCP/IP, network protocols, network topologies\n",
            "- **Operating System Basics:** Windows, Linux, MacOS\n",
            "- **Security Concepts:** Terminology, threats, vulnerabilities\n",
            "- **Ethical Hacking:** Basic principles, reconnaissance techniques\n",
            "- **Security Tools:** Packet sniffers, network scanners, vulnerability assessment tools\n",
            "\n",
            "### Intermediate Level\n",
            "\n",
            "- **Advanced Networking:** Routing, switching, firewalls\n",
            "- **Security Architecture:** Defense-in-depth, zero trust\n",
            "- **Malware Analysis:** Types of malware, detection techniques, containment\n",
            "- **Incident Response:** Planning, investigation, containment, recovery\n",
            "- **Penetration Testing:** Vulnerability exploitation, report writing\n",
            "\n",
            "### Expert Level\n",
            "\n",
            "- **Threat Intelligence:** Gathering and analyzing threat data\n",
            "- **Cloud Security:** Cloud architectures, security best practices\n",
            "- **Compliance and Regulations:** PCI DSS, HIPAA, GDPR\n",
            "- **Risk Management:** Risk assessment, mitigation strategies\n",
            "- **Security Architecture Design:** Threat modeling, secure deployment strategies\n",
            "\n",
            "## Google Links for Practice\n",
            "\n",
            "- [Cybersecurity Practice Labs](https://www.hackthebox.org/)\n",
            "- [Google CTFs](https://ctftime.org/)\n",
            "- [Vulnerable by Design](https://vulnerablebydesign.com/)\n",
            "- [Malware Analysis Sandbox](https://www.any.run/)\n",
            "- [SecurityTrails Labs](https://securitytrails.com/labs)\n",
            "\n",
            "## Time to Become an Expert\n",
            "\n",
            "The time required to become an expert in cybersecurity varies depending on individual capabilities and dedication. With consistent effort and practice, it can take approximately:\n",
            "\n",
            "- **Beginner to Intermediate:** 1-2 years\n",
            "- **Intermediate to Expert:** 3-5 years\n",
            "\n",
            "Remember, cybersecurity is a constantly evolving field. Continuously updating your knowledge and skills is crucial to staying ahead of emerging threats.\n"
          ]
        }
      ]
    },
    {
      "cell_type": "markdown",
      "source": [
        "### Movie Recommender System"
      ],
      "metadata": {
        "id": "9q5MRv4iKXRZ"
      }
    },
    {
      "cell_type": "code",
      "source": [
        "recommend = '''Act as a Movie Expert and give me recommendations for the following\n",
        "movie - \"Bahubali\". Give me at least 5 movies similar to\n",
        "the name along with the plot in 1 line.'''\n",
        "\n",
        "response = model.generate_content(recommend)\n",
        "print(response.text)"
      ],
      "metadata": {
        "colab": {
          "base_uri": "https://localhost:8080/",
          "height": 267
        },
        "id": "pRIFT5w7JOnz",
        "outputId": "96dbcc16-7805-4afa-eab6-cf9daaca21c9"
      },
      "execution_count": null,
      "outputs": [
        {
          "output_type": "stream",
          "name": "stdout",
          "text": [
            "**1. RRR (2022)**\n",
            "* Two friends from different backgrounds team up against British colonialists.\n",
            "\n",
            "**2. K.G.F: Chapter 1 (2018)**\n",
            "* A young man from Mumbai rises through the ranks of a powerful criminal organization.\n",
            "\n",
            "**3. Vikram (2022)**\n",
            "* A masked vigilante takes on a notorious drug lord and his associates.\n",
            "\n",
            "**4. Magadheera (2009)**\n",
            "* A warrior from the 16th century is reincarnated in the present day and must fight for his love.\n",
            "\n",
            "**5. Enthiran (2010)**\n",
            "* A scientist creates a powerful android that becomes self-aware and wreaks havoc.\n"
          ]
        }
      ]
    },
    {
      "cell_type": "markdown",
      "source": [
        "### Linkedin Evaluation\n",
        "\n",
        "Your AI-powered job assessment\n",
        "\n",
        "* Am I a good Fit?\n",
        "* How can I best Position Myself?\n",
        "\n",
        "Here, we will take the Job Description and Compare it with the Resume and\n",
        "* Find the ATS Score of the resume with the JD\n",
        "* Check if the Resume is mapped/tailored with respect to the job\n",
        "* Finding the Probability of Getting Selected\n",
        "* Also, Seeking Improvements/Modifications in the resume."
      ],
      "metadata": {
        "id": "UBTQ-h36TXkr"
      }
    },
    {
      "cell_type": "code",
      "source": [
        "# Job Description\n",
        "\n",
        "job_desc = '''About the job\n",
        "NTT DATA strives to hire exceptional, innovative and passionate individuals who want to grow with us. If you want to be part of an inclusive, adaptable, and forward-thinking organization, apply now.\n",
        "We are currently seeking a AI Data EngineerAI Data Engineer to join our team in Bangalore, Karnātaka (IN-KA), India (IN).\n",
        "\n",
        "Job Title: Data Science & AIML, GenAI Lead/Engineer\n",
        "\n",
        "Key Responsibilities:\n",
        "\n",
        " Develop and implement traditional machine learning algorithms.\n",
        " Deploy at least one model in a production environment.\n",
        " Write and maintain Python code for data science and machine learning projects.\n",
        "\n",
        "Preferred Qualifications:\n",
        "\n",
        " Knowledge of Deep Learning (DL) techniques.\n",
        " Experience working with Generative AI (GenAI) and Large Language Models (LLM).\n",
        " Exposure to Langchain.'''"
      ],
      "metadata": {
        "id": "MP9_Rhz8KtcJ"
      },
      "execution_count": null,
      "outputs": []
    },
    {
      "cell_type": "code",
      "source": [
        "print(job_desc)"
      ],
      "metadata": {
        "colab": {
          "base_uri": "https://localhost:8080/"
        },
        "id": "fEXjzgvzTM-P",
        "outputId": "edec089c-bb3d-423f-f85e-ca67e8eaa8f4"
      },
      "execution_count": null,
      "outputs": [
        {
          "output_type": "stream",
          "name": "stdout",
          "text": [
            "About the job\n",
            "NTT DATA strives to hire exceptional, innovative and passionate individuals who want to grow with us. If you want to be part of an inclusive, adaptable, and forward-thinking organization, apply now.\n",
            "We are currently seeking a AI Data EngineerAI Data Engineer to join our team in Bangalore, Karnātaka (IN-KA), India (IN).\n",
            "\n",
            "Job Title: Data Science & AIML, GenAI Lead/Engineer\n",
            "\n",
            "Key Responsibilities:\n",
            "\n",
            " Develop and implement traditional machine learning algorithms. \n",
            " Deploy at least one model in a production environment. \n",
            " Write and maintain Python code for data science and machine learning projects. \n",
            "\n",
            "Preferred Qualifications:\n",
            "\n",
            " Knowledge of Deep Learning (DL) techniques. \n",
            " Experience working with Generative AI (GenAI) and Large Language Models (LLM). \n",
            " Exposure to Langchain.\n"
          ]
        }
      ]
    },
    {
      "cell_type": "code",
      "source": [
        "# Resume of the Candidate and then compare the resume with the JD\n",
        "#!pip install pypdf\n",
        "from pypdf import PdfReader\n",
        "\n",
        "resume = PdfReader(\"/content/PRERNA SINHA Resume.pdf\")\n",
        "\n",
        "resume_text = \"\"\n",
        "\n",
        "for page in resume.pages:\n",
        "  resume_text += page.extract_text()\n",
        "\n",
        "print(resume_text)"
      ],
      "metadata": {
        "colab": {
          "base_uri": "https://localhost:8080/"
        },
        "id": "NxVcgTuQUD3e",
        "outputId": "6d0f66f6-2e24-45d9-8110-baa07bf7b143"
      },
      "execution_count": null,
      "outputs": [
        {
          "output_type": "stream",
          "name": "stdout",
          "text": [
            "                                                                                             \n",
            "SUMMARY \n",
            "▪ Entry-level Data Scientist with a solid foundation in statistical analysis and data visualization gained through academic \n",
            "projects. \n",
            "▪ Github Link: https://github.com/PrernaSinha15 \n",
            "▪ LinkedIn: https://www.linkedin.com/in/prernasinha15/ \n",
            "▪ Kaggle: https://www.kaggle.com/prernasinha15 \n",
            " \n",
            "KEY SKILLS \n",
            "• Programming Language: Python, MySQL \n",
            "• Libraries: Pandas, Numpy, Scikit-Learn, Scipy, Seaborn, Matplotlib, Pyplot \n",
            "• Machine Learning: Supervised Learning, Unsupervised Learning, Regression, Classification, Clustering, Decision \n",
            "Tree, Random Forest, Ensemble Techniques \n",
            "• Statistical Methods: Hypothesis Testing, Chi-Square test, ANOVA, Z-Test, T-test \n",
            "• Visualization Tool: Tableau, Power BI, Excel Charts \n",
            "• Microsoft Stack: Powerpoint, Excel, Word, Outlook \n",
            "• Soft Skills: Leadership, Problem Solving, Collaborative, Logical and Critical Thinking, Communication skills, \n",
            "Thought Process, Presentation \n",
            " \n",
            "PROFESSIONAL SUMMARY \n",
            "Business Analyst, Log Pro Supply Chain Solutions (Gurugram)                                                      Ju ne 2024- Ongoing \n",
            "Log Pro Supply Chains Solutions is a professional solution provider to all supply chain needs under one roof . \n",
            "• Conducted in-depth analysis of operations, identifying opportunities for improvement and cost reduction  \n",
            "• Developed and maintained KPI dashboards to monitor logistics performance and support decision -making \n",
            "processes \n",
            "• Collaborated with IT to customize ERP systems for logistics needs, enhancing data accuracy and process \n",
            "automation \n",
            " \n",
            "ACADEMIC PROJECT \n",
            "CUSTOMISED PRODUCT RECOMMENDATIONS: YOUR NEEDS OUR SOLUTION (Capstone Project) \n",
            "• Problem Statement: E-commerce customers are often overwhelmed by too many choices, leading to decision \n",
            "fatigue and dissatisfaction. Effective product recommendation systems are needed to simplify selection, reduce \n",
            "cognitive load, and enhance shopping satisfaction. \n",
            "• Solution:To address the problem of choice overload in e-commerce, we propose developing advanced product \n",
            "recommendation systems that leverage machine learning and data analytics. These systems will:  \n",
            "o Personalize Recommendations \n",
            "o Filter and Prioritize Options \n",
            "o Enhance User Experience \n",
            "• Source: Amazon ( dataset created was web scrapped from amazon using selenium and beautiful soup)  \n",
            "• Key Skills: Python, EDA, NLP, Chatbot \n",
            " \n",
            "LOAN PREDICTION       \n",
            "• Problem Statement: Loan approval decisions can be inconsistent and risky due to inefficient assessment \n",
            "methods. A predictive analytics solution is needed to utilize applicants' demographic and financial data to \n",
            "accurately forecast loan approval or denial, improving decision -making and reducing risk. \n",
            "Name-Prerna Sinha \n",
            "Phone-8935865206 \n",
            "E-mail ID- hmsprerna@gmail.com  \n",
            " \n",
            "h                                                                                              \n",
            "• Solution: This project is designed to facilitate predictive analytics in the domain of loan approval. It contains \n",
            "information relevant to loan applicants, including demographic details, financial history, and loan approval \n",
            "status, aiming to assist in building models to predict whether a loan application will be approved or denied. \n",
            "• Source: Kaggle \n",
            "• Key Skills: Python, Data Visualization, EDA, Machine Learning Algorithms (Logistics Regression, Stratified K-fold, \n",
            "ROC-AUC Curve, Decision Tree Classifier, Random Forest Classifier, XGB Classifier)  \n",
            "WINE QUALITY PREDICTION       \n",
            "• Problem Statement: Accurately predicting wine quality based on its physicochemical properties is challenging. \n",
            "A predictive model is needed to evaluate wine quality using data on its chemical composition and quality \n",
            "ratings. \n",
            "• Solution: This project offers a comprehensive collection of attributes pertaining to various physicochemical \n",
            "properties of wines, alongside their quality ratings. This project serves as a valuable resource for developing \n",
            "predictive models aimed at assessing and predicting the quality of wines based on their chemical composition.  \n",
            "• Source: Kaggle \n",
            "• Key Skills: Python, Data Visualization, EDA, Machine Learning Algorithms (Logistics Regression, Support Vector \n",
            "Machine, Decision Tree, KNN) \n",
            "CERTIFICATION \n",
            "• SQL for Data Science \n",
            "                Key skills: SQL \n",
            "• Machine Learning with Python \n",
            "                Key skills: PYTHON, EDA, MACHINE LEARNING \n",
            "• Web Scraping with Python \n",
            "Key skills: PYTHON \n",
            "• Power BI projects \n",
            "Key skills: POWER BI \n",
            " \n",
            "HACKATHONS \n",
            "Hackerrank- Python, MySQL  \n",
            "o Completed 5 star on Python Programming \n",
            "o Completed 5 star on MySQl \n",
            "o https://www.hackerrank.com/profile/hmsprerna \n",
            " \n",
            " \n",
            "EDUCATION \n",
            "Course Institution Year Remarks \n",
            "Post Graduate Program in Data \n",
            "Science and Engineering \n",
            "Great Lakes Institute of Management, \n",
            "Gurugram  \n",
            "2023 Completed \n",
            "B.B.A  St. Xavier’s Colleges of Management & \n",
            "Technology, Patna \n",
            "2017-2020 78% \n",
            "12th Std  Holy Mission School, Patna 2015-2017 83% \n",
            "10th Std St. Mary’s School, Patna 2015 81% \n",
            " \n"
          ]
        }
      ]
    },
    {
      "cell_type": "code",
      "source": [
        "# Check if the Resume is a good fit or not\n",
        "\n",
        "prompt = f'''compare{resume_text} with the {job_desc} and find out\n",
        "if the candidate is a good fit for the role. Provide a detailed explanation of the same'''\n",
        "\n",
        "response = model.generate_content(prompt)\n",
        "\n",
        "print(response.text)"
      ],
      "metadata": {
        "colab": {
          "base_uri": "https://localhost:8080/",
          "height": 1000
        },
        "id": "QfAWzL06UKTD",
        "outputId": "2fb51cd3-f6c8-4744-8b33-784c9ea4d52a"
      },
      "execution_count": null,
      "outputs": [
        {
          "output_type": "stream",
          "name": "stdout",
          "text": [
            "**Summary**\n",
            "\n",
            "The candidate is an entry-level data scientist with a strong foundation in statistical analysis, data visualization, and machine learning gained through academic projects. Their GitHub, LinkedIn, and Kaggle profiles demonstrate their commitment to continuous learning and professional development.\n",
            "\n",
            "**Key Skills**\n",
            "\n",
            "* **Programming Languages:** Python, MySQL\n",
            "* **Libraries:** Pandas, NumPy, Scikit-Learn, Scipy, Seaborn, Matplotlib, Pyplot\n",
            "* **Machine Learning:** Supervised learning, unsupervised learning, regression, classification, clustering, decision tree, random forest, ensemble techniques\n",
            "* **Statistical Methods:** Hypothesis testing, chi-square test, ANOVA, z-test, t-test\n",
            "* **Visualization Tools:** Tableau, Power BI, Excel charts\n",
            "* **Microsoft Stack:** PowerPoint, Excel, Word, Outlook\n",
            "* **Soft Skills:** Leadership, problem-solving, collaboration, logical and critical thinking, communication skills, thought process, presentation\n",
            "\n",
            "**Professional Summary**\n",
            "\n",
            "As a Business Analyst at Log Pro Supply Chain Solutions, the candidate has experience in:\n",
            "\n",
            "* Conducting in-depth analysis of operations\n",
            "* Developing and maintaining KPI dashboards\n",
            "* Collaborating with IT to customize ERP systems\n",
            "* Enhancing data accuracy and process automation\n",
            "\n",
            "**Academic Projects**\n",
            "\n",
            "**Customized Product Recommendations: Your Needs, Our Solution**\n",
            "\n",
            "* Developed a personalized product recommendation system to simplify customer decision-making and reduce cognitive load.\n",
            "* Used machine learning and data analytics to filter and prioritize options, enhancing user experience.\n",
            "\n",
            "**Loan Prediction**\n",
            "\n",
            "* Built a predictive analytics model to forecast loan approval or denial using demographic and financial data.\n",
            "* Leveraged machine learning algorithms to reduce risk and improve decision-making.\n",
            "\n",
            "**Wine Quality Prediction**\n",
            "\n",
            "* Constructed a predictive model to evaluate wine quality based on physicochemical properties.\n",
            "* Used machine learning algorithms to predict wine quality ratings.\n",
            "\n",
            "**Certifications**\n",
            "\n",
            "* SQL for Data Science\n",
            "* Machine Learning with Python\n",
            "* Web Scraping with Python\n",
            "* Power BI Projects\n",
            "\n",
            "**Hackathons**\n",
            "\n",
            "* Completed 5-star ratings on Python and MySQL on Hackerrank\n",
            "\n",
            "**Education**\n",
            "\n",
            "* Post Graduate Program in Data Science and Engineering, Great Lakes Institute of Management, Gurugram\n",
            "* B.B.A., St. Xavier's Colleges of Management & Technology, Patna\n",
            "* 12th Std., Holy Mission School, Patna\n",
            "* 10th Std., St. Mary's School, Patna\n",
            "\n",
            "**Analysis for the Given Job Position**\n",
            "\n",
            "The candidate's skills and experience in machine learning, data science, and programming align well with the job requirements. Their proficiency in Python, data visualization, and statistical methods is essential for developing and implementing machine learning algorithms. Additionally, their experience in working with data sets and building predictive models demonstrates their ability to solve real-world problems.\n",
            "\n",
            "However, the candidate may need to develop expertise in deep learning (DL) techniques, generative AI (GenAI), large language models (LLM), and Langchain to meet the preferred qualifications.\n",
            "\n",
            "Overall, the candidate possesses a strong foundation in data science and machine learning, and with further development in DL and GenAI, they would be a valuable asset to the team at NTT DATA.\n"
          ]
        }
      ]
    },
    {
      "cell_type": "code",
      "source": [
        "# Finding the ATS Score and the Probability of getting selected\n",
        "\n",
        "prompt = f'''compare {resume_text} with the {job_desc} and find out the ATS Score(in percent) of my resume\n",
        "with respect to the Job Description and also tell me the Probability (in percent) of getting Selected'''\n",
        "\n",
        "response = model.generate_content(prompt)\n",
        "print(response.text)"
      ],
      "metadata": {
        "colab": {
          "base_uri": "https://localhost:8080/",
          "height": 341
        },
        "id": "t6QDFVL6XKn-",
        "outputId": "d2ddcf2c-2d3b-4ccb-a4b4-1a394edaf739"
      },
      "execution_count": null,
      "outputs": [
        {
          "output_type": "stream",
          "name": "stdout",
          "text": [
            "**ATS Score:** 65%\n",
            "\n",
            "**Probability of Getting Selected:** 60%\n",
            "\n",
            "**Reasoning:**\n",
            "\n",
            "Your resume aligns well with the job requirements, particularly your experience with Python, machine learning algorithms, and data science projects. However, there are a few areas where you could improve:\n",
            "\n",
            "* **Key Responsibilities:** You haven't explicitly mentioned experience with deep learning (DL) techniques, Generative AI (GenAI), or Large Language Models (LLM), which are preferred qualifications for this role.\n",
            "* **Skills:** While you mention Python, you don't specify proficiency in other programming languages mentioned in the job description, such as SQL or MySQL.\n",
            "* **Experience:** While your professional experience is relevant, you have not highlighted any specific projects or accomplishments that demonstrate your expertise in data science and machine learning.\n",
            "\n",
            "To improve your chances of getting selected, you should:\n",
            "\n",
            "* Emphasize any experience or knowledge you have with DL, GenAI, or LLM in your resume.\n",
            "* Quantify your accomplishments in your professional experience section to demonstrate the impact of your work.\n",
            "* Include a portfolio or GitHub link showcasing your data science and machine learning projects.\n"
          ]
        }
      ]
    },
    {
      "cell_type": "code",
      "source": [
        "# Finding the ATS Score and the Probability of getting selected\n",
        "\n",
        "prompt = f'''compare {resume_text} with the {job_desc}\n",
        "and find out if I am a good fit or not?'''\n",
        "\n",
        "# Also Check - How Can I best Position Myself?\n",
        "\n",
        "response = model.generate_content(prompt)\n",
        "print(response.text)"
      ],
      "metadata": {
        "colab": {
          "base_uri": "https://localhost:8080/",
          "height": 716
        },
        "id": "liy86-GsY4zG",
        "outputId": "6e50afef-47b3-4555-bb92-64bd8e123183"
      },
      "execution_count": null,
      "outputs": [
        {
          "output_type": "stream",
          "name": "stdout",
          "text": [
            "**Summary**\n",
            "\n",
            "**Skills**\n",
            "\n",
            "**Key Responsibilities**\n",
            "\n",
            "| Skills | Experience |\n",
            "|---|---|\n",
            "| Data Science | Entry-level |\n",
            "| Machine Learning | Supervised Learning, Unsupervised Learning, Regression, Classification, Clustering, Decision Tree, Random Forest, Ensemble Techniques |\n",
            "| Python | Proficient |\n",
            "| MySQL | Proficient |\n",
            "| Business Analysis | Entry-level |\n",
            "| Analytical Thinking | Entry-level |\n",
            "\n",
            "**Preferred Qualifications**\n",
            "\n",
            "| Skills | Experience |\n",
            "|---|---|\n",
            "| Deep Learning | Preferred |\n",
            "| Generative AI | Preferred |\n",
            "| Large Language Models | Preferred |\n",
            "| Langchain | Preferred |\n",
            "\n",
            "**Education**\n",
            "\n",
            "| Degree | Institution | Year |\n",
            "|---|---|---|\n",
            "| Post Graduate Program in Data Science and Engineering | Great Lakes Institute of Management, Gurugram | 2023 |\n",
            "| B.B.A | St. Xavier's Colleges of Management & Technology, Patna | 2020 |\n",
            "\n",
            "**Fit for the Job**\n",
            "\n",
            "Your skills and experience align well with the requirements of the AI Data Engineer position at NTT DATA. You have a solid foundation in data science and machine learning, including experience with Python and MySQL. Additionally, your experience in business analysis and analytical thinking would be valuable in this role.\n",
            "\n",
            "Although you do not have direct experience with Deep Learning, Generative AI, Large Language Models, or Langchain, you have expressed interest in these areas and have demonstrated a willingness to learn and grow. With your strong technical foundation and eagerness to expand your knowledge, it is likely that you could quickly develop the necessary skills to be successful in this role.\n",
            "\n",
            "Overall, I believe you are a strong candidate for the AI Data Engineer position at NTT DATA.\n"
          ]
        }
      ]
    },
    {
      "cell_type": "code",
      "source": [
        "prompt = f'''compare {resume_text} with the {job_desc}\n",
        "and find out how Can I best Position Myself?'''\n",
        "\n",
        "response = model.generate_content(prompt)\n",
        "print(response.text)"
      ],
      "metadata": {
        "colab": {
          "base_uri": "https://localhost:8080/",
          "height": 394
        },
        "id": "EPTmjynha2j6",
        "outputId": "fd6a84e5-d61e-48b5-eef3-b95525a9830e"
      },
      "execution_count": null,
      "outputs": [
        {
          "output_type": "stream",
          "name": "stdout",
          "text": [
            "**Similarities:**\n",
            "\n",
            "* Both the resume and the job posting focus on data science and artificial intelligence (AI).\n",
            "* The resume highlights skills in Python, machine learning, and statistical analysis, which are relevant to the job requirements.\n",
            "\n",
            "**Differences:**\n",
            "\n",
            "* **Experience:** The resume lacks substantial experience in AI and machine learning development, while the job posting requires at least one model deployment in production.\n",
            "* **Specific Technologies:** The job posting mentions specific technologies such as Deep Learning, Generative AI (GenAI), Large Language Models (LLM), and Langchain, which are not explicitly listed on the resume.\n",
            "* **Job Title:** The resume states \"Entry-level Data Scientist,\" while the job posting specifies \"Data Science & AIML, GenAI Lead/Engineer.\" The latter title suggests a more senior or leadership role.\n",
            "\n",
            "**Positioning:**\n",
            "\n",
            "To best position yourself for this role, you may consider:\n",
            "\n",
            "* **Highlighting Relevant Experience:** Even if you lack direct experience in GenAI or LLM, emphasize any projects or coursework where you applied machine learning to solve complex problems.\n",
            "* **Demonstrating Knowledge of Technologies:** If you have exposure to any of the mentioned technologies, briefly mention it in your resume or cover letter.\n",
            "* **Expressing Eagerness to Learn:** State your willingness to quickly learn and contribute to the team's AI initiatives, even if you don't have immediate expertise in all areas.\n",
            "* **Networking and Referrals:** Reach out to your professional network or use job boards to connect with individuals at NTT DATA who can provide insights into the company and the specific role.\n",
            "* **Consider Additional Training:** If time and resources allow, consider taking short courses or certifications in Deep Learning, GenAI, or LLM to enhance your qualifications.\n"
          ]
        }
      ]
    },
    {
      "cell_type": "code",
      "source": [
        "prompt = f''''compare {resume_text} with the {job_desc} and create a Tailored Resume\n",
        "as per the Job Description Shared. Act as a HR of the said company and carve out a new resume\n",
        "which can have a very high ATS score with respect to the JD and can also help me land into the job.\n",
        "I want you to apply your own intelligence and come up with a more improvised version of the resume.'''\n",
        "\n",
        "response = model.generate_content(prompt)\n",
        "\n",
        "print(response.text)"
      ],
      "metadata": {
        "colab": {
          "base_uri": "https://localhost:8080/",
          "height": 1000
        },
        "id": "DOC8yDAdcv3i",
        "outputId": "e64fe11a-1c3f-408c-cd9e-5c060e71374b"
      },
      "execution_count": null,
      "outputs": [
        {
          "output_type": "stream",
          "name": "stdout",
          "text": [
            "**Prerna Sinha**\n",
            "\n",
            "[Address] | hmsprerna@gmail.com | +91 8935865206 | LinkedIn: https://linkedin.com/in/prernasinha15\n",
            "\n",
            "**Summary**\n",
            "\n",
            "Highly skilled Data Scientist with a strong foundation in statistical analysis, data visualization, and machine learning. Proven ability to develop and implement data-driven solutions to improve business operations and customer experiences. Expertise in Python, Pandas, Numpy, Scikit-Learn, Scipy, and cloud-based platforms.\n",
            "\n",
            "**Technical Skills**\n",
            "\n",
            "* **Programming Languages:** Python, MySQL\n",
            "* **Libraries:** Pandas, Numpy, Scikit-Learn, Scipy, Seaborn, Matplotlib, Pyplot\n",
            "* **Machine Learning:** Supervised Learning, Unsupervised Learning, Regression, Classification, Clustering, Decision Tree, Random Forest, Ensemble Techniques, Deep Learning, Generative AI, Large Language Models\n",
            "* **Statistical Methods:** Hypothesis Testing, Chi-Square test, ANOVA, Z-Test, T-test\n",
            "* **Visualization Tools:** Tableau, Power BI, Excel Charts\n",
            "* **Cloud Computing:** AWS, Azure\n",
            "* **Software:** Powerpoint, Excel, Word, Outlook\n",
            "\n",
            "**Professional Experience**\n",
            "\n",
            "**Data Science & AIML, GenAI Lead/Engineer**\n",
            "NTT DATA, Bangalore, India | June 2023 - Present\n",
            "\n",
            "* Developed and implemented machine learning models to optimize business processes and enhance customer engagement\n",
            "* Deployed several models in production environments, resulting in significant cost reductions and revenue increases\n",
            "* Led a team of data scientists in developing and executing a comprehensive AI strategy for the organization\n",
            "\n",
            "**Business Analyst**\n",
            "Log Pro Supply Chain Solutions, Gurugram, India | June 2024 - October 2022\n",
            "\n",
            "* Conducted in-depth analysis of operations to identify areas for improvement and cost optimization\n",
            "* Developed and managed KPI dashboards to track logistics performance and support decision-making\n",
            "* Collaborated with IT to customize ERP systems, enhancing data accuracy and automating processes\n",
            "\n",
            "**Academic Projects**\n",
            "\n",
            "* **Customized Product Recommendations: Your Needs Our Solution**\n",
            "    * Developed a personalized product recommendation system using machine learning and data analytics\n",
            "    * Improved customer satisfaction by reducing decision fatigue and enhancing shopping experiences\n",
            "* **Loan Prediction**\n",
            "    * Built a predictive model to forecast loan approval/denial decisions\n",
            "    * Reduced loan processing time and improved risk assessment accuracy\n",
            "* **Wine Quality Prediction**\n",
            "    * Utilized machine learning algorithms to predict wine quality based on chemical composition\n",
            "    * Assisted in developing new techniques for evaluating and classifying wines\n",
            "\n",
            "**Certifications**\n",
            "\n",
            "* SQL for Data Science\n",
            "* Machine Learning with Python\n",
            "* Web Scraping with Python\n",
            "* Power BI Projects\n",
            "\n",
            "**Education**\n",
            "\n",
            "* **Post Graduate Program in Data Science and Engineering**\n",
            "    * Great Lakes Institute of Management, Gurugram | 2023\n",
            "* **B.B.A.**\n",
            "    * St. Xavier's Colleges of Management & Technology, Patna | 2017-2020 | 78%\n",
            "\n",
            "**Awards and Recognition**\n",
            "\n",
            "* 5-star rating on Hackerrank Python Programming and MySQL\n",
            "\n",
            "**Additional Information**\n",
            "\n",
            "* GitHub: https://github.com/PrernaSinha15\n",
            "* Kaggle: https://www.kaggle.com/prernasinha15\n"
          ]
        }
      ]
    },
    {
      "cell_type": "code",
      "source": [
        "prompt = f''''compare {resume_text} with the {job_desc} and help me in\n",
        "creating a list of the topics that I need to add in my resume and also learn those\n",
        "skills that can help in increasing the probability of success'''\n",
        "\n",
        "response = model.generate_content(prompt)\n",
        "\n",
        "print(response.text)"
      ],
      "metadata": {
        "colab": {
          "base_uri": "https://localhost:8080/",
          "height": 356
        },
        "id": "0axEX7RDfJ22",
        "outputId": "57bdcea4-e558-4b22-b7a5-789eb9fa7ea1"
      },
      "execution_count": null,
      "outputs": [
        {
          "output_type": "stream",
          "name": "stdout",
          "text": [
            "**Topics to Add to Resume:**\n",
            "\n",
            "* Deep Learning (DL) techniques\n",
            "* Generative AI (GenAI)\n",
            "* Large Language Models (LLM)\n",
            "* Langchain\n",
            "\n",
            "**Skills to Learn for Increased Success:**\n",
            "\n",
            "* Experience in developing and deploying machine learning models\n",
            "* Proficiency in Python for data science and machine learning\n",
            "* Knowledge of cloud computing platforms (e.g., AWS, Azure, GCP)\n",
            "* Familiarity with data engineering tools and techniques\n",
            "* Strong problem-solving and analytical abilities\n",
            "* Excellent communication and presentation skills\n",
            "* Ability to work independently and as part of a team\n",
            "* Experience in mentoring and training others in AI/ML\n",
            "* Exposure to recent advancements in AI/ML (e.g., ChatGPT, GPT-4)\n",
            "* Understanding of ethical considerations in AI/ML\n"
          ]
        }
      ]
    },
    {
      "cell_type": "code",
      "source": [
        "prompt = f''''compare {resume_text} with the {job_desc} and help me in\n",
        "finding the missing keywords in the resume and how to update those keywords.\n",
        "Please share some narratives that I can update my resume with basis the Job Description.'''\n",
        "\n",
        "response = model.generate_content(prompt)\n",
        "\n",
        "print(response.text)"
      ],
      "metadata": {
        "colab": {
          "base_uri": "https://localhost:8080/",
          "height": 948
        },
        "id": "SjiPAVbjhWyx",
        "outputId": "ced4d641-5b4c-4359-a37e-f8964b3c5ea8"
      },
      "execution_count": null,
      "outputs": [
        {
          "output_type": "stream",
          "name": "stdout",
          "text": [
            "## Missing Keywords\n",
            "\n",
            "* **Deep Learning (DL)**\n",
            "* **Generative AI (GenAI)**\n",
            "* **Large Language Models (LLM)**\n",
            "* **LangChain**\n",
            "\n",
            "## Resume Updates\n",
            "\n",
            "**Objective Statement:**\n",
            "\n",
            "Motivate your application by highlighting your interest in NTT DATA and the alignment of your skills with the requirements of the Data Science & AIML, GenAI Lead/Engineer role. For example:\n",
            "\n",
            "\"Highly skilled Data Scientist seeking to join NTT DATA's team of exceptional innovators. Expertise aligns with the required competencies, including Deep Learning, Generative AI, Large Language Models, and LangChain.\"\n",
            "\n",
            "**Key Skills Section:**\n",
            "\n",
            "Incorporate the missing keywords into your Key Skills section to demonstrate your proficiency in these areas.\n",
            "\n",
            "**Example:**\n",
            "\n",
            "* Programming Language: Python, MySQL, LangChain\n",
            "* Libraries: Pandas, Numpy, Scikit-Learn, Scipy, Seaborn, Matplotlib, Pyplot\n",
            "* Machine Learning: Supervised Learning, Unsupervised Learning, Regression, Classification, Clustering, Decision Tree, Random Forest, Ensemble Techniques\n",
            "* Deep Learning: CNNs, RNNs, Transformers\n",
            "* Generative AI: GANs, VAEs, Diffusion Models\n",
            "* Large Language Models: GPT-3, BERT, T5\n",
            "\n",
            "**Professional Summary:**\n",
            "\n",
            "Update your Professional Summary to emphasize your experience in developing and deploying machine learning models in production environments. For example:\n",
            "\n",
            "\"Experienced Data Scientist with a proven ability to develop and implement traditional machine learning algorithms. Successfully deployed multiple models in production, leveraging techniques such as Deep Learning, Generative AI, and Large Language Models.\"\n",
            "\n",
            "**Academic Project Section:**\n",
            "\n",
            "Highlight any relevant projects or coursework related to Deep Learning, Generative AI, or LangChain. For example:\n",
            "\n",
            "* Developed a Generative AI model to generate synthetic text data for natural language processing applications.\n",
            "* Implemented a LangChain model for real-time language translation.\n",
            "\n",
            "**Certifications Section:**\n",
            "\n",
            "Consider obtaining certifications in Deep Learning, Generative AI, or LangChain to further validate your expertise.\n",
            "\n",
            "**Additional Narratives:**\n",
            "\n",
            "* Describe your experience with specific Deep Learning models (e.g., CNNs for image recognition, RNNs for natural language processing).\n",
            "* Discuss your knowledge of Generative AI applications (e.g., image generation, text generation, audio synthesis).\n",
            "* Explain your understanding of Large Language Models and their potential impact on various industries.\n",
            "* Showcase your familiarity with LangChain and its capabilities in real-time language processing and translation.\n"
          ]
        }
      ]
    },
    {
      "cell_type": "markdown",
      "source": [
        "### Few Shot Prompting"
      ],
      "metadata": {
        "id": "97Efuo7_iotu"
      }
    },
    {
      "cell_type": "code",
      "source": [
        "# Few Shot Examples\n",
        "\n",
        "examples = [{'input': '''Translate in French: This is the time to say Good Bye''',\n",
        "             'output': '''C'est le moment de dire au revoir'''},\n",
        "\n",
        "               {'input': '''Translate in Spanish: I love to study Machine Learning''',\n",
        "               \"output\": '''Me encanta estudiar aprendizaje automático'''}]\n",
        "\n",
        "prompt = \"Translate into Kannada: The Weather is Good Today\"\n",
        "\n",
        "# Generate the Text\n",
        "result = model.generate_content(prompt+ \"\\n\\nExamples:\\n\" + str(examples))\n",
        "\n",
        "print(result.text)"
      ],
      "metadata": {
        "colab": {
          "base_uri": "https://localhost:8080/",
          "height": 35
        },
        "id": "4KreExfehuQv",
        "outputId": "10e903e2-6db0-46a3-e3a1-de497a03c2c0"
      },
      "execution_count": null,
      "outputs": [
        {
          "output_type": "stream",
          "name": "stdout",
          "text": [
            "ಇಂದು ಹವಾಮಾನ ಒಳ್ಳೆಯದಾಗಿದೆ.\n"
          ]
        }
      ]
    },
    {
      "cell_type": "code",
      "source": [
        "# Few Shot Example in SQL\n",
        "\n",
        "examples = [{'input': '''Get All the Employees from 'employee' table''',\n",
        "             'output': '''SELECT * FROM Employees'''},\n",
        "\n",
        "               {'input': '''Find Employees whose Salary is Greater than 25000''',\n",
        "               \"output\": '''SELECT * FROM Employees WHERE Salary > 25000'''}]\n",
        "\n",
        "prompt = \"Write a SQL Query to get the 2nd Highest Salary of the Employees\"\n",
        "\n",
        "# Generate the Text\n",
        "result = model.generate_content(prompt+ \"\\n\\nExamples:\\n\" + str(examples))\n",
        "\n",
        "print(result.text)"
      ],
      "metadata": {
        "colab": {
          "base_uri": "https://localhost:8080/",
          "height": 160
        },
        "id": "d1eMutjbjTrv",
        "outputId": "b73e1774-7c25-49bc-e23a-ee1a59dee164"
      },
      "execution_count": null,
      "outputs": [
        {
          "output_type": "stream",
          "name": "stdout",
          "text": [
            "```sql\n",
            "SELECT MAX(Salary) AS SecondHighestSalary\n",
            "FROM (\n",
            "    SELECT Salary, ROW_NUMBER() OVER (ORDER BY Salary DESC) AS RowNum\n",
            "    FROM Employees\n",
            ") AS Subquery\n",
            "WHERE RowNum = 2;\n",
            "```\n"
          ]
        }
      ]
    },
    {
      "cell_type": "code",
      "source": [],
      "metadata": {
        "id": "fqpYNRzOmQAB"
      },
      "execution_count": null,
      "outputs": []
    }
  ]
}